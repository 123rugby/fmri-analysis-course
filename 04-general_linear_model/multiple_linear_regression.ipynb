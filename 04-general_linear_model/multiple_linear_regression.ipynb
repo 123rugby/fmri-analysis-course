{
 "cells": [
  {
   "cell_type": "markdown",
   "metadata": {},
   "source": [
    "# Multiple linear regression excercises\n",
    "\n",
    "$Y_{i} = \\beta_{0} + \\beta_{1} X_{i} + \\beta_{2} X_{i} + \\beta_{3} X_{i} + \\epsilon_{i}$\n",
    "\n",
    "- $Y_{i}$: the dependent (random) variable \n",
    "- $X_{i}$: independent variable (not random)\n",
    "- $\\beta_{0}, \\beta_{1}...$: model parameters \n",
    "- $\\epsilon_{i}$: Random error, how the observation deviates from the population mean"
   ]
  },
  {
   "cell_type": "code",
   "execution_count": 12,
   "metadata": {},
   "outputs": [],
   "source": [
    "# Load libraries\n",
    "\n",
    "import pandas as pd\n",
    "import matplotlib.pyplot as plt\n",
    "from sklearn.linear_model import LinearRegression\n",
    "import numpy as np"
   ]
  },
  {
   "cell_type": "markdown",
   "metadata": {},
   "source": [
    "## Task 1\n",
    "Use LinearRegression from SciPy to predict global signal from 3 rotations and 3 translation parameters. Which motion parameter has highest beta value?"
   ]
  },
  {
   "cell_type": "code",
   "execution_count": 48,
   "metadata": {},
   "outputs": [
    {
     "data": {
      "text/plain": [
       "Index(['csf', 'csf_derivative1', 'csf_power2', 'csf_derivative1_power2',\n",
       "       'white_matter', 'white_matter_derivative1',\n",
       "       'white_matter_derivative1_power2', 'white_matter_power2',\n",
       "       'global_signal', 'global_signal_derivative1',\n",
       "       ...\n",
       "       'rot_x_derivative1_power2', 'rot_x_power2', 'rot_y',\n",
       "       'rot_y_derivative1', 'rot_y_derivative1_power2', 'rot_y_power2',\n",
       "       'rot_z', 'rot_z_derivative1', 'rot_z_derivative1_power2',\n",
       "       'rot_z_power2'],\n",
       "      dtype='object', length=178)"
      ]
     },
     "execution_count": 48,
     "metadata": {},
     "output_type": "execute_result"
    }
   ],
   "source": [
    "# Load confounds table\n",
    "\n",
    "confounds_path = \"../data/sub-01_task-rhymejudgment_desc-confounds_regressors.tsv\"\n",
    "confounds = pd.read_csv(conf_path, delimiter=\"\\t\")\n",
    "\n",
    "# Print confounds column names\n",
    "confounds.columns"
   ]
  },
  {
   "cell_type": "code",
   "execution_count": 49,
   "metadata": {},
   "outputs": [],
   "source": [
    "# Filter dataframe to store only 6 motion parameters\n",
    "motion = confounds[[\"trans_x\", \"trans_y\", \"trans_z\", \"rot_x\", \"rot_y\", \"rot_z\"]]\n",
    "\n",
    "# Filter dataframe to store global signal\n",
    "\n",
    "\n",
    "# plot all columns values at one plot\n",
    "\n"
   ]
  },
  {
   "cell_type": "code",
   "execution_count": 52,
   "metadata": {},
   "outputs": [],
   "source": [
    "# Fit multiple linear regression model \n",
    "\n"
   ]
  },
  {
   "cell_type": "markdown",
   "metadata": {},
   "source": [
    "## Task 2\n",
    "Use LinearRegression from SciPy to predict harry potter from other book characters. Which character has highest beta value?"
   ]
  },
  {
   "cell_type": "code",
   "execution_count": 86,
   "metadata": {},
   "outputs": [],
   "source": [
    "# Load characters\n",
    "\n",
    "harry = np.load(\"../data/harry.npy\")\n",
    "lilly = np.load(\"../data/lilly.npy\")\n",
    "james = np.load(\"../data/james.npy\")\n",
    "syrius = np.load(\"../data/syrius.npy\")\n",
    "voldemort = np.load(\"../data/voldemort.npy\")\n",
    "\n",
    "# Plot photos of all character on one plot\n",
    "\n"
   ]
  },
  {
   "cell_type": "code",
   "execution_count": 87,
   "metadata": {},
   "outputs": [],
   "source": [
    "# Make matrix of characters (remember to change matrices to vectors and transpose). Use np.vstack.\n",
    "\n",
    "\n",
    "# Print shape of matrix\n"
   ]
  },
  {
   "cell_type": "code",
   "execution_count": null,
   "metadata": {},
   "outputs": [],
   "source": [
    "# Run multiple linear regression\n"
   ]
  },
  {
   "cell_type": "code",
   "execution_count": 94,
   "metadata": {},
   "outputs": [],
   "source": [
    "# Print regression coefficients\n",
    "\n"
   ]
  },
  {
   "cell_type": "code",
   "execution_count": 93,
   "metadata": {},
   "outputs": [],
   "source": [
    "# Print predicted harry\n",
    "\n"
   ]
  }
 ],
 "metadata": {
  "kernelspec": {
   "display_name": "Python 3",
   "language": "python",
   "name": "python3"
  },
  "language_info": {
   "codemirror_mode": {
    "name": "ipython",
    "version": 3
   },
   "file_extension": ".py",
   "mimetype": "text/x-python",
   "name": "python",
   "nbconvert_exporter": "python",
   "pygments_lexer": "ipython3",
   "version": "3.7.3"
  }
 },
 "nbformat": 4,
 "nbformat_minor": 2
}
