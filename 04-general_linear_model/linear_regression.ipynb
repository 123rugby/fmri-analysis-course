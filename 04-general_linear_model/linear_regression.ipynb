{
 "cells": [
  {
   "cell_type": "markdown",
   "metadata": {},
   "source": [
    "# Linear regression excercises\n",
    "\n",
    "$Y_{i} = \\beta_{0} + \\beta_{1} X_{i} + \\epsilon_{i}$\n",
    "\n",
    "- $Y_{i}$: the dependent (random) variable \n",
    "- $X_{i}$: independent variable (not random)\n",
    "- $\\beta_{0}, \\beta_{1}$: model parameters \n",
    "- $\\epsilon_{i}$: Random error, how the observation deviates from the population mean\n"
   ]
  },
  {
   "cell_type": "code",
   "execution_count": 13,
   "metadata": {},
   "outputs": [],
   "source": [
    "# Load libraries\n",
    "\n",
    "import pandas as pd\n",
    "import matplotlib.pyplot as plt"
   ]
  },
  {
   "cell_type": "code",
   "execution_count": 11,
   "metadata": {},
   "outputs": [
    {
     "data": {
      "text/html": [
       "<div>\n",
       "<style scoped>\n",
       "    .dataframe tbody tr th:only-of-type {\n",
       "        vertical-align: middle;\n",
       "    }\n",
       "\n",
       "    .dataframe tbody tr th {\n",
       "        vertical-align: top;\n",
       "    }\n",
       "\n",
       "    .dataframe thead th {\n",
       "        text-align: right;\n",
       "    }\n",
       "</style>\n",
       "<table border=\"1\" class=\"dataframe\">\n",
       "  <thead>\n",
       "    <tr style=\"text-align: right;\">\n",
       "      <th></th>\n",
       "      <th>csf</th>\n",
       "      <th>csf_derivative1</th>\n",
       "      <th>csf_power2</th>\n",
       "      <th>csf_derivative1_power2</th>\n",
       "      <th>white_matter</th>\n",
       "      <th>white_matter_derivative1</th>\n",
       "      <th>white_matter_derivative1_power2</th>\n",
       "      <th>white_matter_power2</th>\n",
       "      <th>global_signal</th>\n",
       "      <th>global_signal_derivative1</th>\n",
       "      <th>...</th>\n",
       "      <th>rot_x_derivative1_power2</th>\n",
       "      <th>rot_x_power2</th>\n",
       "      <th>rot_y</th>\n",
       "      <th>rot_y_derivative1</th>\n",
       "      <th>rot_y_derivative1_power2</th>\n",
       "      <th>rot_y_power2</th>\n",
       "      <th>rot_z</th>\n",
       "      <th>rot_z_derivative1</th>\n",
       "      <th>rot_z_derivative1_power2</th>\n",
       "      <th>rot_z_power2</th>\n",
       "    </tr>\n",
       "  </thead>\n",
       "  <tbody>\n",
       "    <tr>\n",
       "      <th>0</th>\n",
       "      <td>661.664060</td>\n",
       "      <td>NaN</td>\n",
       "      <td>437799.328011</td>\n",
       "      <td>NaN</td>\n",
       "      <td>582.241511</td>\n",
       "      <td>NaN</td>\n",
       "      <td>NaN</td>\n",
       "      <td>339005.177713</td>\n",
       "      <td>526.516821</td>\n",
       "      <td>NaN</td>\n",
       "      <td>...</td>\n",
       "      <td>NaN</td>\n",
       "      <td>6.261756e-06</td>\n",
       "      <td>-0.000822</td>\n",
       "      <td>NaN</td>\n",
       "      <td>NaN</td>\n",
       "      <td>6.764256e-07</td>\n",
       "      <td>-0.000621</td>\n",
       "      <td>NaN</td>\n",
       "      <td>NaN</td>\n",
       "      <td>3.860572e-07</td>\n",
       "    </tr>\n",
       "    <tr>\n",
       "      <th>1</th>\n",
       "      <td>644.578523</td>\n",
       "      <td>-17.085537</td>\n",
       "      <td>415481.472246</td>\n",
       "      <td>291.915569</td>\n",
       "      <td>580.923387</td>\n",
       "      <td>-1.318124</td>\n",
       "      <td>1.737452</td>\n",
       "      <td>337471.981745</td>\n",
       "      <td>521.348217</td>\n",
       "      <td>-5.168603</td>\n",
       "      <td>...</td>\n",
       "      <td>7.799363e-07</td>\n",
       "      <td>2.621841e-06</td>\n",
       "      <td>-0.000964</td>\n",
       "      <td>-0.000141</td>\n",
       "      <td>1.998802e-08</td>\n",
       "      <td>9.289683e-07</td>\n",
       "      <td>-0.000202</td>\n",
       "      <td>0.000420</td>\n",
       "      <td>1.762388e-07</td>\n",
       "      <td>4.061313e-08</td>\n",
       "    </tr>\n",
       "    <tr>\n",
       "      <th>2</th>\n",
       "      <td>635.412475</td>\n",
       "      <td>-9.166048</td>\n",
       "      <td>403749.013034</td>\n",
       "      <td>84.016440</td>\n",
       "      <td>580.771837</td>\n",
       "      <td>-0.151551</td>\n",
       "      <td>0.022968</td>\n",
       "      <td>337295.926190</td>\n",
       "      <td>518.360918</td>\n",
       "      <td>-2.987299</td>\n",
       "      <td>...</td>\n",
       "      <td>1.098657e-07</td>\n",
       "      <td>1.658300e-06</td>\n",
       "      <td>-0.000964</td>\n",
       "      <td>0.000000</td>\n",
       "      <td>0.000000e+00</td>\n",
       "      <td>9.289683e-07</td>\n",
       "      <td>-0.000246</td>\n",
       "      <td>-0.000045</td>\n",
       "      <td>2.020502e-09</td>\n",
       "      <td>6.075091e-08</td>\n",
       "    </tr>\n",
       "    <tr>\n",
       "      <th>3</th>\n",
       "      <td>634.774600</td>\n",
       "      <td>-0.637874</td>\n",
       "      <td>402938.793280</td>\n",
       "      <td>0.406884</td>\n",
       "      <td>580.034297</td>\n",
       "      <td>-0.737539</td>\n",
       "      <td>0.543964</td>\n",
       "      <td>336439.786042</td>\n",
       "      <td>518.386814</td>\n",
       "      <td>0.025895</td>\n",
       "      <td>...</td>\n",
       "      <td>9.572666e-09</td>\n",
       "      <td>1.415886e-06</td>\n",
       "      <td>-0.000884</td>\n",
       "      <td>0.000080</td>\n",
       "      <td>6.440063e-09</td>\n",
       "      <td>7.807136e-07</td>\n",
       "      <td>0.000039</td>\n",
       "      <td>0.000285</td>\n",
       "      <td>8.135210e-08</td>\n",
       "      <td>1.501245e-09</td>\n",
       "    </tr>\n",
       "    <tr>\n",
       "      <th>4</th>\n",
       "      <td>634.872426</td>\n",
       "      <td>0.097826</td>\n",
       "      <td>403062.997290</td>\n",
       "      <td>0.009570</td>\n",
       "      <td>579.979105</td>\n",
       "      <td>-0.055192</td>\n",
       "      <td>0.003046</td>\n",
       "      <td>336375.762760</td>\n",
       "      <td>518.626567</td>\n",
       "      <td>0.239754</td>\n",
       "      <td>...</td>\n",
       "      <td>3.370499e-07</td>\n",
       "      <td>3.713074e-07</td>\n",
       "      <td>-0.000964</td>\n",
       "      <td>-0.000080</td>\n",
       "      <td>6.440063e-09</td>\n",
       "      <td>9.289683e-07</td>\n",
       "      <td>0.000216</td>\n",
       "      <td>0.000178</td>\n",
       "      <td>3.158443e-08</td>\n",
       "      <td>4.685753e-08</td>\n",
       "    </tr>\n",
       "  </tbody>\n",
       "</table>\n",
       "<p>5 rows × 178 columns</p>\n",
       "</div>"
      ],
      "text/plain": [
       "          csf  csf_derivative1     csf_power2  csf_derivative1_power2  \\\n",
       "0  661.664060              NaN  437799.328011                     NaN   \n",
       "1  644.578523       -17.085537  415481.472246              291.915569   \n",
       "2  635.412475        -9.166048  403749.013034               84.016440   \n",
       "3  634.774600        -0.637874  402938.793280                0.406884   \n",
       "4  634.872426         0.097826  403062.997290                0.009570   \n",
       "\n",
       "   white_matter  white_matter_derivative1  white_matter_derivative1_power2  \\\n",
       "0    582.241511                       NaN                              NaN   \n",
       "1    580.923387                 -1.318124                         1.737452   \n",
       "2    580.771837                 -0.151551                         0.022968   \n",
       "3    580.034297                 -0.737539                         0.543964   \n",
       "4    579.979105                 -0.055192                         0.003046   \n",
       "\n",
       "   white_matter_power2  global_signal  global_signal_derivative1  ...  \\\n",
       "0        339005.177713     526.516821                        NaN  ...   \n",
       "1        337471.981745     521.348217                  -5.168603  ...   \n",
       "2        337295.926190     518.360918                  -2.987299  ...   \n",
       "3        336439.786042     518.386814                   0.025895  ...   \n",
       "4        336375.762760     518.626567                   0.239754  ...   \n",
       "\n",
       "   rot_x_derivative1_power2  rot_x_power2     rot_y  rot_y_derivative1  \\\n",
       "0                       NaN  6.261756e-06 -0.000822                NaN   \n",
       "1              7.799363e-07  2.621841e-06 -0.000964          -0.000141   \n",
       "2              1.098657e-07  1.658300e-06 -0.000964           0.000000   \n",
       "3              9.572666e-09  1.415886e-06 -0.000884           0.000080   \n",
       "4              3.370499e-07  3.713074e-07 -0.000964          -0.000080   \n",
       "\n",
       "   rot_y_derivative1_power2  rot_y_power2     rot_z  rot_z_derivative1  \\\n",
       "0                       NaN  6.764256e-07 -0.000621                NaN   \n",
       "1              1.998802e-08  9.289683e-07 -0.000202           0.000420   \n",
       "2              0.000000e+00  9.289683e-07 -0.000246          -0.000045   \n",
       "3              6.440063e-09  7.807136e-07  0.000039           0.000285   \n",
       "4              6.440063e-09  9.289683e-07  0.000216           0.000178   \n",
       "\n",
       "   rot_z_derivative1_power2  rot_z_power2  \n",
       "0                       NaN  3.860572e-07  \n",
       "1              1.762388e-07  4.061313e-08  \n",
       "2              2.020502e-09  6.075091e-08  \n",
       "3              8.135210e-08  1.501245e-09  \n",
       "4              3.158443e-08  4.685753e-08  \n",
       "\n",
       "[5 rows x 178 columns]"
      ]
     },
     "execution_count": 11,
     "metadata": {},
     "output_type": "execute_result"
    }
   ],
   "source": [
    "# Load confounds table\n",
    "\n",
    "conf_path = \"../data/sub-01_task-rhymejudgment_desc-confounds_regressors.tsv\"\n",
    "conf = pd.read_csv(conf_path, delimiter=\"\\t\")\n",
    "\n",
    "# Print head of the confounds\n",
    "conf.head()"
   ]
  },
  {
   "cell_type": "code",
   "execution_count": 30,
   "metadata": {},
   "outputs": [
    {
     "data": {
      "text/plain": [
       "[<matplotlib.lines.Line2D at 0x7f4b46e49e48>]"
      ]
     },
     "execution_count": 30,
     "metadata": {},
     "output_type": "execute_result"
    },
    {
     "data": {
      "image/png": "[encoded data removed]",
      "text/plain": [
       "<Figure size 432x288 with 1 Axes>"
      ]
     },
     "metadata": {
      "needs_background": "light"
     },
     "output_type": "display_data"
    }
   ],
   "source": [
    "# Plot timeseries of BOLD signal from cerebrospinal fluid (csf) & white matter (white_matter) on one plot\n",
    "wm = conf['white_matter'].values\n",
    "csf = conf['csf'].values\n",
    "plt.plot(wm)\n",
    "plt.plot(csf)"
   ]
  },
  {
   "cell_type": "code",
   "execution_count": 21,
   "metadata": {},
   "outputs": [
    {
     "data": {
      "text/plain": [
       "<matplotlib.collections.PathCollection at 0x7f4b50ec0278>"
      ]
     },
     "execution_count": 21,
     "metadata": {},
     "output_type": "execute_result"
    },
    {
     "data": {
      "image/png": "[encoded data removed]",
      "text/plain": [
       "<Figure size 432x288 with 1 Axes>"
      ]
     },
     "metadata": {
      "needs_background": "light"
     },
     "output_type": "display_data"
    }
   ],
   "source": [
    "# Plot scatter\n",
    "\n",
    "plt.scatter(wm, csf)"
   ]
  },
  {
   "cell_type": "markdown",
   "metadata": {},
   "source": [
    "## Lets run linear regression!"
   ]
  },
  {
   "cell_type": "code",
   "execution_count": 31,
   "metadata": {},
   "outputs": [
    {
     "data": {
      "text/plain": [
       "LinearRegression(copy_X=True, fit_intercept=True, n_jobs=None,\n",
       "         normalize=False)"
      ]
     },
     "execution_count": 31,
     "metadata": {},
     "output_type": "execute_result"
    }
   ],
   "source": [
    "from sklearn.linear_model import LinearRegression\n",
    "\n",
    "linear_regression = LinearRegression() \n",
    "linear_regression.fit(wm.reshape(-1, 1), csf.reshape(-1, 1))"
   ]
  },
  {
   "cell_type": "code",
   "execution_count": 56,
   "metadata": {},
   "outputs": [
    {
     "name": "stdout",
     "output_type": "stream",
     "text": [
      "Beta: [[0.87327878]]\n",
      "Intercept: [132.98154237]\n"
     ]
    }
   ],
   "source": [
    "# Print beta & intercept values\n",
    "\n",
    "beta = linear_regression.coef_\n",
    "intercept = linear_regression.intercept_\n",
    "print(\"Beta:\", beta)\n",
    "print(\"Intercept:\", intercept)"
   ]
  },
  {
   "cell_type": "code",
   "execution_count": 55,
   "metadata": {},
   "outputs": [
    {
     "data": {
      "text/plain": [
       "[<matplotlib.lines.Line2D at 0x7f4b45838f28>]"
      ]
     },
     "execution_count": 55,
     "metadata": {},
     "output_type": "execute_result"
    },
    {
     "data": {
      "image/png": "[encoded data removed]",
      "text/plain": [
       "<Figure size 432x288 with 1 Axes>"
      ]
     },
     "metadata": {
      "needs_background": "light"
     },
     "output_type": "display_data"
    }
   ],
   "source": [
    "# Add regression line to scatterplot\n",
    "\n",
    "x = np.linspace(580,585,100)\n",
    "y = beta*x+intercept\n",
    "y = np.squeeze(y)\n",
    "\n",
    "plt.scatter(wm, csf)\n",
    "plt.plot(x,y)"
   ]
  },
  {
   "cell_type": "markdown",
   "metadata": {},
   "source": [
    "## Linear regression on images\n"
   ]
  },
  {
   "cell_type": "code",
   "execution_count": null,
   "metadata": {},
   "outputs": [],
   "source": [
    "# Load and harry image\n",
    "\n",
    "# Plot syrius image\n"
   ]
  },
  {
   "cell_type": "code",
   "execution_count": 71,
   "metadata": {},
   "outputs": [],
   "source": [
    "# Plot syrius & harry side by side\n",
    "\n"
   ]
  },
  {
   "cell_type": "code",
   "execution_count": null,
   "metadata": {},
   "outputs": [],
   "source": [
    "# Change harry & syrius to vectors\n",
    "\n"
   ]
  },
  {
   "cell_type": "code",
   "execution_count": null,
   "metadata": {},
   "outputs": [],
   "source": [
    "# Make a scatterplot\n",
    "\n"
   ]
  },
  {
   "cell_type": "code",
   "execution_count": null,
   "metadata": {},
   "outputs": [],
   "source": [
    "# Run linear regression\n",
    "\n"
   ]
  },
  {
   "cell_type": "code",
   "execution_count": null,
   "metadata": {},
   "outputs": [],
   "source": [
    "# Print beta & intercept value\n",
    "\n"
   ]
  },
  {
   "cell_type": "code",
   "execution_count": null,
   "metadata": {},
   "outputs": [],
   "source": [
    "# Make scatter plot with overlayed regression line\n",
    "\n"
   ]
  }
 ],
 "metadata": {
  "kernelspec": {
   "display_name": "Python 3",
   "language": "python",
   "name": "python3"
  },
  "language_info": {
   "codemirror_mode": {
    "name": "ipython",
    "version": 3
   },
   "file_extension": ".py",
   "mimetype": "text/x-python",
   "name": "python",
   "nbconvert_exporter": "python",
   "pygments_lexer": "ipython3",
   "version": "3.7.3"
  }
 },
 "nbformat": 4,
 "nbformat_minor": 2
}
